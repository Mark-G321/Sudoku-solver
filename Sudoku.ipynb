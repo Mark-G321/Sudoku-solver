{
  "nbformat": 4,
  "nbformat_minor": 0,
  "metadata": {
    "colab": {
      "name": "Sudoku.ipynb",
      "provenance": [],
      "collapsed_sections": [],
      "authorship_tag": "ABX9TyP7ZXCX3boLmwgiEMEuh6u3",
      "include_colab_link": true
    },
    "kernelspec": {
      "name": "python3",
      "display_name": "Python 3"
    },
    "language_info": {
      "name": "python"
    }
  },
  "cells": [
    {
      "cell_type": "markdown",
      "metadata": {
        "id": "view-in-github",
        "colab_type": "text"
      },
      "source": [
        "<a href=\"https://colab.research.google.com/github/Mark-G321/Sudoku-solver/blob/main/Sudoku.ipynb\" target=\"_parent\"><img src=\"https://colab.research.google.com/assets/colab-badge.svg\" alt=\"Open In Colab\"/></a>"
      ]
    },
    {
      "cell_type": "code",
      "execution_count": null,
      "metadata": {
        "id": "8sB8Hu3ErkZT"
      },
      "outputs": [],
      "source": [
        "import numpy as np"
      ]
    },
    {
      "cell_type": "code",
      "source": [
        "grid= [[5,3,0,0,7,0,0,0,0],\n",
        "       [6,0,0,1,9,5,0,0,0],\n",
        "       [0,9,8,0,0,0,0,6,0],\n",
        "       [8,0,0,0,6,0,0,0,3],\n",
        "       [4,0,0,8,0,3,0,0,1],\n",
        "       [7,0,0,0,2,0,0,0,6],\n",
        "       [0,6,0,0,0,0,2,8,0],\n",
        "       [0,0,0,4,1,9,0,0,0],\n",
        "       [0,0,0,0,0,0,0,0,0]]\n",
        "print(np.matrix(grid))\n"
      ],
      "metadata": {
        "colab": {
          "base_uri": "https://localhost:8080/"
        },
        "id": "nBFhIyYtrwQV",
        "outputId": "739cb6be-d016-40ff-c6af-21efcd53e197"
      },
      "execution_count": null,
      "outputs": [
        {
          "output_type": "stream",
          "name": "stdout",
          "text": [
            "[[5 3 0 0 7 0 0 0 0]\n",
            " [6 0 0 1 9 5 0 0 0]\n",
            " [0 9 8 0 0 0 0 6 0]\n",
            " [8 0 0 0 6 0 0 0 3]\n",
            " [4 0 0 8 0 3 0 0 1]\n",
            " [7 0 0 0 2 0 0 0 6]\n",
            " [0 6 0 0 0 0 2 8 0]\n",
            " [0 0 0 4 1 9 0 0 0]\n",
            " [0 0 0 0 0 0 0 0 0]]\n"
          ]
        }
      ]
    },
    {
      "cell_type": "code",
      "source": [
        "def legal(x,y,n): # checks if number n is a legal input at (x,y)\n",
        "  global grid\n",
        "  for i in range(9):\n",
        "    if grid[x][i]==n:\n",
        "      return False\n",
        "    if grid[i][y]==n:\n",
        "      return False\n",
        "  x0=(x//3)*3 \n",
        "  y0=(y//3)*3\n",
        "  for i in range(3): \n",
        "    for j in range(3):\n",
        "      if grid[x0+i][y0+j]==n: #checks if no same number in square\n",
        "        return False\n",
        "  return True\n",
        "    "
      ],
      "metadata": {
        "id": "kbmSDoghtbdV"
      },
      "execution_count": null,
      "outputs": []
    },
    {
      "cell_type": "code",
      "source": [
        "def solution(): #prints a solution to sudoku \"grid\" if exists\n",
        "  global grid\n",
        "  for i in range(9):\n",
        "    for j in range(9):\n",
        "      if grid[i][j]==0:\n",
        "        for num in range(1,10):\n",
        "          if legal(i,j,num):\n",
        "            grid[i][j]=num \n",
        "            solution() # recursivly solve the sudoku \n",
        "            grid[i][j]=0 # returns here if previous assignment of number to i,j resulted in a dead end or if additional solutions are required\n",
        "        return\n",
        "  print(np.matrix(grid)) # reaches here if grid is full meaning a solutions was found\n",
        "  input('Print additional solutions?')\n",
        "          "
      ],
      "metadata": {
        "id": "vVvUqE2HyHMW"
      },
      "execution_count": null,
      "outputs": []
    },
    {
      "cell_type": "code",
      "source": [
        "solution()"
      ],
      "metadata": {
        "colab": {
          "base_uri": "https://localhost:8080/"
        },
        "id": "fb0af_DG2QTs",
        "outputId": "a83d71a4-9e05-46bd-f924-1e52676d4344"
      },
      "execution_count": null,
      "outputs": [
        {
          "name": "stdout",
          "output_type": "stream",
          "text": [
            "[[5 3 4 6 7 8 1 9 2]\n",
            " [6 7 2 1 9 5 3 4 8]\n",
            " [1 9 8 3 4 2 5 6 7]\n",
            " [8 5 9 7 6 1 4 2 3]\n",
            " [4 2 6 8 5 3 9 7 1]\n",
            " [7 1 3 9 2 4 8 5 6]\n",
            " [9 6 1 5 3 7 2 8 4]\n",
            " [2 8 7 4 1 9 6 3 5]\n",
            " [3 4 5 2 8 6 7 1 9]]\n",
            "Print additional solutions?\n",
            "[[5 3 4 6 7 8 1 9 2]\n",
            " [6 7 2 1 9 5 3 4 8]\n",
            " [1 9 8 3 4 2 7 6 5]\n",
            " [8 5 9 7 6 1 4 2 3]\n",
            " [4 2 6 8 5 3 9 7 1]\n",
            " [7 1 3 9 2 4 8 5 6]\n",
            " [9 6 1 5 3 7 2 8 4]\n",
            " [2 8 5 4 1 9 6 3 7]\n",
            " [3 4 7 2 8 6 5 1 9]]\n",
            "Print additional solutions?\n",
            "[[5 3 4 6 7 8 9 1 2]\n",
            " [6 7 2 1 9 5 3 4 8]\n",
            " [1 9 8 3 4 2 5 6 7]\n",
            " [8 5 9 7 6 1 4 2 3]\n",
            " [4 2 6 8 5 3 7 9 1]\n",
            " [7 1 3 9 2 4 8 5 6]\n",
            " [9 6 1 5 3 7 2 8 4]\n",
            " [2 8 7 4 1 9 6 3 5]\n",
            " [3 4 5 2 8 6 1 7 9]]\n",
            "Print additional solutions?\n"
          ]
        }
      ]
    }
  ]
}